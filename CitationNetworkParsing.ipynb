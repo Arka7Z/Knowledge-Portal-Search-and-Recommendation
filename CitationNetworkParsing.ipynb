{
 "cells": [
  {
   "cell_type": "code",
   "execution_count": 1,
   "metadata": {},
   "outputs": [],
   "source": [
    "import json\n",
    "import pandas as pd"
   ]
  },
  {
   "cell_type": "code",
   "execution_count": 2,
   "metadata": {},
   "outputs": [],
   "source": [
    "fieldsOfStudy = set()"
   ]
  },
  {
   "cell_type": "code",
   "execution_count": 3,
   "metadata": {},
   "outputs": [],
   "source": [
    "with open('dblp_papers_v11.txt', 'r') as file:\n",
    "    for line in file:\n",
    "        data = json.loads(line)\n",
    "        for fos in data.get('fos',[]):\n",
    "            fieldsOfStudy.add(fos.get('name',''))"
   ]
  },
  {
   "cell_type": "code",
   "execution_count": 31,
   "metadata": {},
   "outputs": [
    {
     "data": {
      "text/plain": [
       "dict_keys(['id', 'title', 'authors', 'venue', 'year', 'n_citation', 'page_start', 'page_end', 'doc_type', 'publisher', 'volume', 'issue', 'references', 'indexed_abstract', 'fos'])"
      ]
     },
     "execution_count": 31,
     "metadata": {},
     "output_type": "execute_result"
    }
   ],
   "source": [
    "data.keys()"
   ]
  },
  {
   "cell_type": "code",
   "execution_count": 33,
   "metadata": {},
   "outputs": [
    {
     "data": {
      "text/plain": [
       "True"
      ]
     },
     "execution_count": 33,
     "metadata": {},
     "output_type": "execute_result"
    }
   ],
   "source": [
    "'indexed_abstract' in data.keys()"
   ]
  },
  {
   "cell_type": "code",
   "execution_count": 2,
   "metadata": {},
   "outputs": [],
   "source": [
    "AITopLevelTopics = ['Artificial intelligence', 'Computer vision', 'Data mining',\n",
    "                     'Data science', 'Machine learning', 'Natural language processing',\n",
    "                     'Pattern recognition', 'Speech recognition']"
   ]
  },
  {
   "cell_type": "code",
   "execution_count": 8,
   "metadata": {},
   "outputs": [],
   "source": [
    "for topic in AITopLevelTopics:\n",
    "    if topic not in fieldsOfStudy:\n",
    "        print('Not found topic: ', topic)"
   ]
  },
  {
   "cell_type": "code",
   "execution_count": 13,
   "metadata": {},
   "outputs": [],
   "source": [
    "count = 0\n",
    "with open('dblp_papers_v11.txt', 'r') as file:\n",
    "    for line in file:\n",
    "        if (count < 2):\n",
    "            count += 1\n",
    "            continue\n",
    "        data = json.loads(line)\n",
    "        break\n",
    "            "
   ]
  },
  {
   "cell_type": "code",
   "execution_count": 14,
   "metadata": {},
   "outputs": [
    {
     "data": {
      "text/plain": [
       "{'id': '1000022707',\n",
       " 'title': 'A SIMPLE OBSERVATION REGARDING ITERATIONS OF FINITE-VALUED POLYNOMIAL-TIME FUNCTIONS',\n",
       " 'authors': [{'name': 'Jerzy Mycka', 'id': '263067851'}],\n",
       " 'venue': {'raw': 'Reports on Mathematical Logic', 'id': '42464861'},\n",
       " 'year': 2009,\n",
       " 'n_citation': 0,\n",
       " 'page_start': '19',\n",
       " 'page_end': '29',\n",
       " 'doc_type': 'Journal',\n",
       " 'publisher': '',\n",
       " 'volume': '44',\n",
       " 'issue': '',\n",
       " 'references': ['1972178849', '2069792094'],\n",
       " 'indexed_abstract': {'IndexLength': 49,\n",
       "  'InvertedIndex': {'A': [0],\n",
       "   'b': [1],\n",
       "   's': [2],\n",
       "   't': [3],\n",
       "   'r': [4],\n",
       "   'a': [5, 31],\n",
       "   'c': [6],\n",
       "   't.': [7],\n",
       "   'We': [8],\n",
       "   'present': [9],\n",
       "   'this': [10],\n",
       "   'note': [11],\n",
       "   'to': [12, 25],\n",
       "   'point': [13],\n",
       "   'out': [14],\n",
       "   'that': [15],\n",
       "   'the': [16, 43],\n",
       "   'finitevalued': [17],\n",
       "   'polynomial-time': [18],\n",
       "   'computable': [19, 47],\n",
       "   'functions': [20],\n",
       "   'are': [21],\n",
       "   'closed': [22],\n",
       "   'with': [23],\n",
       "   'respect': [24],\n",
       "   'iteration.': [26],\n",
       "   'This': [27],\n",
       "   'fact': [28],\n",
       "   'is': [29],\n",
       "   'not': [30, 41],\n",
       "   'difficult': [32],\n",
       "   'result,': [33],\n",
       "   'however': [34],\n",
       "   'it': [35],\n",
       "   'can': [36],\n",
       "   'be': [37],\n",
       "   'useful': [38],\n",
       "   'in': [39],\n",
       "   'constructions': [40],\n",
       "   'exceeding': [42],\n",
       "   'class': [44],\n",
       "   'of': [45],\n",
       "   'polynomialtime': [46],\n",
       "   'functions.': [48]}},\n",
       " 'fos': [{'name': 'Discrete mathematics', 'w': 0.473684847},\n",
       "  {'name': 'Time complexity', 'w': 0.5170442},\n",
       "  {'name': 'Mathematics', 'w': 0.448530942},\n",
       "  {'name': 'Mathematical analysis', 'w': 0.465644926},\n",
       "  {'name': 'Computable number', 'w': 0.7559471},\n",
       "  {'name': 'Computable analysis', 'w': 0.8073153},\n",
       "  {'name': 'Computable function', 'w': 0.7075342}]}"
      ]
     },
     "execution_count": 14,
     "metadata": {},
     "output_type": "execute_result"
    }
   ],
   "source": [
    "data"
   ]
  },
  {
   "cell_type": "code",
   "execution_count": 17,
   "metadata": {},
   "outputs": [],
   "source": [
    "abstract = [w for w in data['indexed_abstract']['InvertedIndex'].keys() if len(w) > 1]"
   ]
  },
  {
   "cell_type": "code",
   "execution_count": 19,
   "metadata": {},
   "outputs": [],
   "source": [
    "AITopLevelTopicsSet = set(AITopLevelTopics)\n",
    "papersUnderConsideration = set()\n",
    "with open('dblp_papers_v11.txt', 'r') as file:\n",
    "    for line in file:\n",
    "        data = json.loads(line)\n",
    "        for fos in data.get('fos',[]):\n",
    "            if fos.get('name','') in AITopLevelTopicsSet:\n",
    "                papersUnderConsideration.add(data['id'])"
   ]
  },
  {
   "cell_type": "code",
   "execution_count": 3,
   "metadata": {},
   "outputs": [],
   "source": [
    "# paperList = list(papersUnderConsideration)\n",
    "# with open(\"dblpPaperIDs.json\", 'w') as f:\n",
    "#     json.dump(paperList, f)\n",
    "# To Read\n",
    "with open(\"dblpPaperIDs.json\", 'r') as f:\n",
    "    paperList = json.load(f)\n",
    "papersUnderConsideration = set(paperList)"
   ]
  },
  {
   "cell_type": "code",
   "execution_count": 18,
   "metadata": {},
   "outputs": [],
   "source": [
    "paperData = dict()\n",
    "with open('dblp_papers_v11.txt', 'r') as file:\n",
    "    with open('dblp_AIpapers_v11.json', 'w') as outfile:\n",
    "        for line in file:\n",
    "            data = json.loads(line)\n",
    "            paperID = data.get('id','')\n",
    "            if paperID in papersUnderConsideration:\n",
    "                dataDict = dict()\n",
    "                dataDict['title'] = data.get('title', '')\n",
    "                references = list()\n",
    "                for reference in data.get('references',[]):\n",
    "                    if reference in papersUnderConsideration:\n",
    "                        references.append(reference)\n",
    "                dataDict['references'] = references\n",
    "                dataDict['abstract'] = []\n",
    "                if 'indexed_abstract' in data:\n",
    "                    dataDict['abstract'] = [w for w in data['indexed_abstract']['InvertedIndex'].keys() if len(w) > 1]                    \n",
    "                dataDict['fos'] = data.get('fos',[])\n",
    "                # paperData[paperID] = dataDict\n",
    "                tmpDict = dataDict.copy()\n",
    "                tmpDict['id'] = paperID\n",
    "                json.dump(tmpDict, outfile)\n",
    "                outfile.write('\\n')"
   ]
  },
  {
   "cell_type": "markdown",
   "metadata": {},
   "source": [
    "## Remove papers with citation count less than one"
   ]
  },
  {
   "cell_type": "code",
   "execution_count": 4,
   "metadata": {},
   "outputs": [],
   "source": [
    "from collections import defaultdict\n",
    "citationCount = defaultdict(int)\n",
    "with open('dblp_AIpapers_v11.json', 'r') as file:\n",
    "    for line in file:\n",
    "        data = json.loads(line)\n",
    "        paperId = data['id']\n",
    "        for paperCited in data.get('references', []):\n",
    "            citationCount[paperCited] += 1\n",
    "        "
   ]
  },
  {
   "cell_type": "code",
   "execution_count": 4,
   "metadata": {},
   "outputs": [],
   "source": [
    "from collections import Counter\n",
    "\n",
    "counter=Counter(list(citationCount.values()))\n"
   ]
  },
  {
   "cell_type": "code",
   "execution_count": 5,
   "metadata": {},
   "outputs": [],
   "source": [
    "citationThreshold = 2\n",
    "paperIdList = [key for key in citationCount.keys() if citationCount[key] > citationThreshold ]\n",
    "IDoutfileName = \"./data/dblpPaperIDs_\" + str(citationThreshold) + \"Thresholded.json\"\n",
    "with open(IDoutfileName, 'w') as f:\n",
    "    json.dump(paperIdList, f)"
   ]
  },
  {
   "cell_type": "code",
   "execution_count": 6,
   "metadata": {},
   "outputs": [],
   "source": [
    "papersUnderConsideration = set(paperIdList)\n",
    "PapersOutFileName = './data/dblp_AIpapers' + str(citationThreshold) + 'Thresholded.json'\n",
    "with open('dblp_AIpapers_v11.json', 'r') as file:\n",
    "    with open(PapersOutFileName, 'w') as outfile:\n",
    "        for line in file:\n",
    "            data = json.loads(line)\n",
    "            paperID = data.get('id','')\n",
    "            if paperID in papersUnderConsideration:\n",
    "                dataDict = dict()\n",
    "                dataDict['title'] = data.get('title', '')\n",
    "                references = list()\n",
    "                for reference in data.get('references',[]):\n",
    "                    if reference in papersUnderConsideration:\n",
    "                        references.append(reference)\n",
    "                dataDict['references'] = references\n",
    "                dataDict['abstract'] = data['abstract']           \n",
    "                dataDict['fos'] = data.get('fos',[])\n",
    "                tmpDict = dataDict.copy()\n",
    "                tmpDict['id'] = paperID\n",
    "                json.dump(tmpDict, outfile)\n",
    "                outfile.write('\\n')"
   ]
  },
  {
   "cell_type": "code",
   "execution_count": 7,
   "metadata": {},
   "outputs": [
    {
     "data": {
      "text/plain": [
       "475839"
      ]
     },
     "execution_count": 7,
     "metadata": {},
     "output_type": "execute_result"
    }
   ],
   "source": [
    "len(paperIdList)"
   ]
  },
  {
   "cell_type": "code",
   "execution_count": 9,
   "metadata": {},
   "outputs": [],
   "source": [
    "import os\n",
    "\n",
    "filename = os.path.join('./data/tmp', 'lmao.txt')"
   ]
  },
  {
   "cell_type": "code",
   "execution_count": 10,
   "metadata": {},
   "outputs": [
    {
     "data": {
      "text/plain": [
       "'./data/tmp/lmao.txt'"
      ]
     },
     "execution_count": 10,
     "metadata": {},
     "output_type": "execute_result"
    }
   ],
   "source": [
    "filename"
   ]
  },
  {
   "cell_type": "code",
   "execution_count": null,
   "metadata": {},
   "outputs": [],
   "source": []
  }
 ],
 "metadata": {
  "kernelspec": {
   "display_name": "Python 3",
   "language": "python",
   "name": "python3"
  },
  "language_info": {
   "codemirror_mode": {
    "name": "ipython",
    "version": 3
   },
   "file_extension": ".py",
   "mimetype": "text/x-python",
   "name": "python",
   "nbconvert_exporter": "python",
   "pygments_lexer": "ipython3",
   "version": "3.7.3"
  }
 },
 "nbformat": 4,
 "nbformat_minor": 2
}
