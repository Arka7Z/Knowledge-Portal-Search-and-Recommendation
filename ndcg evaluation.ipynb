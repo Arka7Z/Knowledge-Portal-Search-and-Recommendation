{
 "cells": [
  {
   "cell_type": "code",
   "execution_count": 1,
   "metadata": {},
   "outputs": [],
   "source": [
    "import json\n",
    "import numpy as np\n",
    "import csv"
   ]
  },
  {
   "cell_type": "code",
   "execution_count": 32,
   "metadata": {},
   "outputs": [],
   "source": [
    "queryList = ['converting word to speech', 'Big data', 'efficient estimation of word representations in vector space', 'natural language interface', 'reinforcement learning in video game']\n",
    "queryToIdx = {queryList[i]:i for i in range(len(queryList))}\n",
    "annotationDict = [{} for i in range(len(queryList))]\n",
    "\n",
    "\n",
    "with open ('./data/annotated.csv','r') as csv_file:\n",
    "    reader =csv.reader(csv_file)\n",
    "    next(reader) # skip first row\n",
    "    for row in reader:\n",
    "        annotationDict[queryToIdx[row[0]]][row[1]] = int(row[-1])"
   ]
  },
  {
   "cell_type": "code",
   "execution_count": 33,
   "metadata": {},
   "outputs": [],
   "source": [
    "def dcg(relevanceScores, k = 10, method=0):\n",
    "    \"\"\"\n",
    "    Returns discounted cumulative gain (dcg)\n",
    "    Args:\n",
    "        r: Relevance scores (list or numpy) in rank order\n",
    "            (first element is the first item)\n",
    "        k: Number of results to consider\n",
    "        method: If 0 then weights are [1.0, 1.0, 0.6309, 0.5, 0.4307, ...]\n",
    "                If 1 then weights are [1.0, 0.6309, 0.5, 0.4307, ...]\n",
    "    Returns:\n",
    "        Discounted cumulative gain\n",
    "    \"\"\"\n",
    "    relevanceScores = np.asfarray(relevanceScores)[:k]\n",
    "    if relevanceScores.size:\n",
    "        if method == 0:\n",
    "            return relevanceScores[0] + np.sum(relevanceScores[1:] / np.log2(np.arange(2, relevanceScores.size + 1)))\n",
    "        elif method == 1:\n",
    "            return np.sum(r / np.log2(np.arange(2, r.size + 2)))\n",
    "        else:\n",
    "            raise ValueError('method must be 0 or 1.')\n",
    "    return 0\n",
    "\n",
    "def ndcgMax(relevanceScores, k=10, method=0):\n",
    "    return dcg(sorted(relevanceScores, reverse=True), k, method)\n",
    "\n",
    "def ndcg(relevanceScores, ndcgMax, k = 10, method=0):\n",
    "    return dcg(relevanceScores, k, method) / ndcgMax\n",
    "    \n",
    "    "
   ]
  },
  {
   "cell_type": "code",
   "execution_count": 34,
   "metadata": {},
   "outputs": [],
   "source": [
    "relevanceScores= []\n",
    "fileName = './data/search_results.json'\n",
    "with open(fileName, 'r') as file:\n",
    "    for line in file:\n",
    "        data = json.loads(line)\n",
    "        result = data['result']\n",
    "        for i in range(len(result)):\n",
    "            result[i] = [annotationDict[i].get(ID, 0) for ID in result[i]]\n",
    "        relevanceScores.append(result)"
   ]
  },
  {
   "cell_type": "code",
   "execution_count": 35,
   "metadata": {},
   "outputs": [],
   "source": [
    "ndcgMaxPerQuery = []\n",
    "for i in range(len(queryList)):\n",
    "    ndcgMaxPerQuery.append(ndcgMax(list(annotationDict[i].values())))"
   ]
  },
  {
   "cell_type": "code",
   "execution_count": 36,
   "metadata": {},
   "outputs": [],
   "source": [
    "# Search methods: [searchWithEmbedding title USE, searchWithEmbedding fos FT, elasticSearch, rankedElasticSearch, rankedMLTElasticSearch] \n",
    "numSearchMethods = 5\n",
    "assert numSearchMethods == len(relevanceScores)\n",
    "results = []\n",
    "meanScores = []\n",
    "\n",
    "for i in range(numSearchMethods):\n",
    "    relScoresForThisMethod = relevanceScores[i]\n",
    "    ndcgScoresMethod = []\n",
    "    for q in range(len(queryList)):\n",
    "        ndcgScoresMethod.append(ndcg(relScoresForThisMethod[q], ndcgMaxPerQuery[q]))\n",
    "    results.append(ndcgScoresMethod)\n",
    "    meanScores.append(np.mean(ndcgScoresMethod))"
   ]
  },
  {
   "cell_type": "code",
   "execution_count": 37,
   "metadata": {},
   "outputs": [
    {
     "data": {
      "text/plain": [
       "[0.8214071817871507,\n",
       " 0.2459638247296175,\n",
       " 0.8333983161011485,\n",
       " 0.6310996696367052,\n",
       " 0.11692473507876104]"
      ]
     },
     "execution_count": 37,
     "metadata": {},
     "output_type": "execute_result"
    }
   ],
   "source": [
    "meanScores"
   ]
  },
  {
   "cell_type": "code",
   "execution_count": 38,
   "metadata": {},
   "outputs": [
    {
     "name": "stdout",
     "output_type": "stream",
     "text": [
      "[0.5131246265799582, 1.0, 0.8275409837116328, 0.9399628496939022, 0.82640744895026]\n",
      "[0.293256878238304, 0.9365622454097836, 0.0, 0.0, 0.0]\n",
      "[0.35390423999227316, 1.0, 1.0, 0.9799876165646341, 0.8330997239488355]\n",
      "[0.26558154794628924, 1.0, 0.44200917087882935, 0.917465578420558, 0.5304420509378489]\n",
      "[0.06938418372001053, 0.07362322034364345, 0.09515663188532462, 0.0, 0.3464596394448266]\n"
     ]
    }
   ],
   "source": [
    "for result in results:\n",
    "    #result = [round(i, 2) for i in result]\n",
    "    print(result)"
   ]
  },
  {
   "cell_type": "markdown",
   "metadata": {},
   "source": [
    "## Evaluating Recommendations"
   ]
  },
  {
   "cell_type": "code",
   "execution_count": 39,
   "metadata": {},
   "outputs": [],
   "source": [
    "queryList = ['Novel-word pronunciation within a text-to-speech system', 'Big Data Framework', 'Efficient Estimation of Word Representations in Vector Space', 'Natural Language Interface Using Shallow Parsing.', 'Reinforcement Learning in First Person Shooter Games']\n",
    "queryToIdx = {queryList[i]:i for i in range(len(queryList))}\n",
    "annotationDict = [{} for i in range(len(queryList))]\n",
    "\n",
    "with open ('./data/recommendationAnnotations.csv','r') as csv_file:\n",
    "    reader =csv.reader(csv_file)\n",
    "    next(reader) # skip first row\n",
    "    for row in reader:\n",
    "        annotationDict[queryToIdx[row[0]]][row[1]] = row[-1]"
   ]
  },
  {
   "cell_type": "code",
   "execution_count": 40,
   "metadata": {},
   "outputs": [],
   "source": [
    "relevanceScores= []\n",
    "fileName = './data/recommendation_results.json'\n",
    "with open(fileName, 'r') as file:\n",
    "    for line in file:\n",
    "        data = json.loads(line)\n",
    "        result = data['result']\n",
    "        for i in range(len(result)):\n",
    "            result[i] = [annotationDict[i].get(ID, 0) for ID in result[i]]\n",
    "        relevanceScores.append(result)"
   ]
  },
  {
   "cell_type": "code",
   "execution_count": 41,
   "metadata": {},
   "outputs": [],
   "source": [
    "ndcgMaxPerQuery = []\n",
    "for i in range(len(queryList)):\n",
    "    ndcgMaxPerQuery.append(ndcgMax(list(annotationDict[i].values())))"
   ]
  },
  {
   "cell_type": "code",
   "execution_count": 42,
   "metadata": {},
   "outputs": [],
   "source": [
    "# Search methods: [MLT, K closest node embed direct, node rerankedcosine USEabstract, node rerankedExemplar USEabstract\n",
    "##                 node rerankedcosine TfIdf, node rerankedExemplar TfIdf] \n",
    "numSearchMethods = 6\n",
    "assert numSearchMethods == len(relevanceScores)\n",
    "results = []\n",
    "meanScores = []\n",
    "\n",
    "for i in range(numSearchMethods):\n",
    "    relScoresForThisMethod = relevanceScores[i]\n",
    "    ndcgScoresMethod = []\n",
    "    for q in range(len(queryList)):\n",
    "        ndcgScoresMethod.append(ndcg(relScoresForThisMethod[q], ndcgMaxPerQuery[q]))\n",
    "    results.append(ndcgScoresMethod)\n",
    "    meanScores.append(np.mean(ndcgScoresMethod))"
   ]
  },
  {
   "cell_type": "code",
   "execution_count": 48,
   "metadata": {},
   "outputs": [
    {
     "data": {
      "text/plain": [
       "[0.941, 0.741, 0.81, 0.828, 0.766, 0.792]"
      ]
     },
     "execution_count": 48,
     "metadata": {},
     "output_type": "execute_result"
    }
   ],
   "source": [
    "[round(score, 3) for score in meanScores]"
   ]
  },
  {
   "cell_type": "code",
   "execution_count": 45,
   "metadata": {},
   "outputs": [
    {
     "name": "stdout",
     "output_type": "stream",
     "text": [
      "[1.0, 1.0, 1.0, 0.768, 0.939]\n",
      "[0.773, 1.0, 0.805, 0.507, 0.618]\n",
      "[0.958, 1.0, 0.897, 0.478, 0.72]\n",
      "[0.955, 1.0, 0.935, 0.528, 0.724]\n",
      "[0.773, 1.0, 0.921, 0.558, 0.578]\n",
      "[0.824, 1.0, 0.939, 0.594, 0.605]\n"
     ]
    }
   ],
   "source": [
    "for result in results:\n",
    "    result = [round(i, 3) for i in result]\n",
    "    print(result)"
   ]
  },
  {
   "cell_type": "code",
   "execution_count": 22,
   "metadata": {},
   "outputs": [
    {
     "data": {
      "text/plain": [
       "[{'2402998908': '3',\n",
       "  '2171975580': '3',\n",
       "  '1501108632': '3',\n",
       "  '2056303394': '3',\n",
       "  '2095214367': '3',\n",
       "  '2035633532': '3',\n",
       "  '195096782': '3',\n",
       "  '39973858': '0',\n",
       "  '2137926008': '3',\n",
       "  '32907139': '3',\n",
       "  '205185618': '3',\n",
       "  '115447653': '3',\n",
       "  '2086182527': '3',\n",
       "  '2146566006': '1',\n",
       "  '2122546880': '3',\n",
       "  '2115441971': '3',\n",
       "  '2295520768': '3',\n",
       "  '1531367301': '3',\n",
       "  '1970195330': '3',\n",
       "  '1550693343': '3',\n",
       "  '2400055890': '3',\n",
       "  '2069828345': '3',\n",
       "  '1501365369': '1',\n",
       "  '1562308513': '1',\n",
       "  '2603096619': '3',\n",
       "  '1267119491': '3',\n",
       "  '1529238635': '3'},\n",
       " {'1975912085': '3',\n",
       "  '2075835333': '3',\n",
       "  '28784159': '3',\n",
       "  '1491282455': '3',\n",
       "  '1495984639': '3',\n",
       "  '2008503861': '3',\n",
       "  '206771271': '3',\n",
       "  '2072021226': '3',\n",
       "  '2053525776': '3',\n",
       "  '2192247565': '3',\n",
       "  '1798754286': '3',\n",
       "  '2109638884': '3',\n",
       "  '2157954477': '3',\n",
       "  '1912802097': '3',\n",
       "  '2088734805': '3',\n",
       "  '2195118355': '3',\n",
       "  '2082839002': '3',\n",
       "  '2117798581': '3',\n",
       "  '2040263621': '3',\n",
       "  '2243099907': '3',\n",
       "  '1985419898': '3',\n",
       "  '2144192937': '3',\n",
       "  '2197266104': '3',\n",
       "  '135304835': '3',\n",
       "  '2203299635': '3',\n",
       "  '2137479650': '3',\n",
       "  '2399650993': '3',\n",
       "  '2220640651': '3',\n",
       "  '2168395831': '3',\n",
       "  '2155006296': '3',\n",
       "  '2204465360': '3',\n",
       "  '2023451755': '3',\n",
       "  '1544148736': '3',\n",
       "  '2069007526': '3',\n",
       "  '2537316881': '3'},\n",
       " {'2265846598': '2',\n",
       "  '2503134594': '3',\n",
       "  '2162456950': '3',\n",
       "  '2250539671': '3',\n",
       "  '2462418454': '3',\n",
       "  '2470673105': '2',\n",
       "  '1610818344': '3',\n",
       "  '1832693441': '1',\n",
       "  '2113552117': '3',\n",
       "  '2153579005': '3',\n",
       "  '2131744502': '3',\n",
       "  '2618798060': '3',\n",
       "  '2577986889': '2',\n",
       "  '318952684': '3',\n",
       "  '1841724727': '2',\n",
       "  '2483215953': '3',\n",
       "  '2103305545': '3',\n",
       "  '2251157338': '3',\n",
       "  '2247359815': '3',\n",
       "  '1889268436': '3',\n",
       "  '2131462252': '3',\n",
       "  '1973942085': '3',\n",
       "  '2141599568': '3',\n",
       "  '2761834329': '1',\n",
       "  '2760103715': '1',\n",
       "  '2120615054': '1',\n",
       "  '2164019165': '3'},\n",
       " {'1983447368': '3',\n",
       "  '2084582960': '0',\n",
       "  '2025265669': '3',\n",
       "  '2116144811': '2',\n",
       "  '2534380090': '3',\n",
       "  '1560797712': '3',\n",
       "  '1518289136': '3',\n",
       "  '2062943553': '3',\n",
       "  '1967187665': '1',\n",
       "  '1516154677': '1',\n",
       "  '2141829400': '0',\n",
       "  '2092669745': '0',\n",
       "  '1511516637': '1',\n",
       "  '2113002560': '1',\n",
       "  '2118655449': '2',\n",
       "  '1998022963': '3',\n",
       "  '1608748326': '3',\n",
       "  '2338893019': '2',\n",
       "  '1595111739': '0',\n",
       "  '2059339613': '1',\n",
       "  '2069767820': '0',\n",
       "  '2104443181': '0',\n",
       "  '2064612869': '1',\n",
       "  '1991566372': '1',\n",
       "  '2074251364': '1',\n",
       "  '2056548750': '1',\n",
       "  '1485005640': '0',\n",
       "  '1536814622': '3',\n",
       "  '1604122592': '0',\n",
       "  '1531381759': '3',\n",
       "  '2252208536': '1',\n",
       "  '2069263150': '1'},\n",
       " {'2399570347': '3',\n",
       "  '2172264025': '1',\n",
       "  '2115899886': '3',\n",
       "  '2003386389': '1',\n",
       "  '2083958377': '3',\n",
       "  '2000276210': '3',\n",
       "  '2167549055': '1',\n",
       "  '2166993268': '3',\n",
       "  '2007866599': '1',\n",
       "  '2219479003': '3',\n",
       "  '2025400977': '1',\n",
       "  '1891427008': '1',\n",
       "  '1935925708': '1',\n",
       "  '2595700172': '1',\n",
       "  '2096645045': '0',\n",
       "  '2132713246': '3',\n",
       "  '2099945315': '1',\n",
       "  '2119296376': '2',\n",
       "  '2026615874': '3',\n",
       "  '2104346096': '3',\n",
       "  '2118674046': '1',\n",
       "  '2100008863': '2',\n",
       "  '1481907638': '3',\n",
       "  '2136074593': '1',\n",
       "  '1503422210': '1',\n",
       "  '1566770693': '3',\n",
       "  '2026461969': '3',\n",
       "  '2023790196': '1'}]"
      ]
     },
     "execution_count": 22,
     "metadata": {},
     "output_type": "execute_result"
    }
   ],
   "source": [
    "annotationDict"
   ]
  },
  {
   "cell_type": "code",
   "execution_count": null,
   "metadata": {},
   "outputs": [],
   "source": []
  }
 ],
 "metadata": {
  "kernelspec": {
   "display_name": "Python 3",
   "language": "python",
   "name": "python3"
  },
  "language_info": {
   "codemirror_mode": {
    "name": "ipython",
    "version": 3
   },
   "file_extension": ".py",
   "mimetype": "text/x-python",
   "name": "python",
   "nbconvert_exporter": "python",
   "pygments_lexer": "ipython3",
   "version": "3.7.6"
  }
 },
 "nbformat": 4,
 "nbformat_minor": 4
}
