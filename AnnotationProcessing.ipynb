{
 "cells": [
  {
   "cell_type": "code",
   "execution_count": 25,
   "metadata": {},
   "outputs": [],
   "source": [
    "import json\n",
    "import numpy as np\n",
    "import csv\n",
    "from collections import namedtuple"
   ]
  },
  {
   "cell_type": "code",
   "execution_count": 26,
   "metadata": {},
   "outputs": [],
   "source": [
    "QueryPaperTuple = namedtuple(\"QueryPaperTuple\", [\"queryID\", \"paperID\"])"
   ]
  },
  {
   "cell_type": "code",
   "execution_count": 27,
   "metadata": {},
   "outputs": [],
   "source": [
    "queryList = ['converting text to speech', 'big data', 'efficient estimation of word representations in vector space', 'natural language interface', 'reinforcement learning in video game']\n",
    "queryToIdx = {queryList[i]:i for i in range(len(queryList))}\n",
    "queryToIdx['converting word to speech'] = 0\n",
    "queryToIdx['Big data'] = 1"
   ]
  },
  {
   "cell_type": "code",
   "execution_count": 28,
   "metadata": {},
   "outputs": [],
   "source": [
    "fileName = 'annotated2.csv'     ## annotated.csv  entityAnnotations.csv entityAnnotationsSiamese.csv\n",
    "filePath = './data/'\n",
    "annotationFile = filePath + fileName\n",
    "dupDetectionDict = dict()\n",
    "with open (annotationFile,'r') as csv_file:\n",
    "    reader =csv.reader(csv_file)\n",
    "    next(reader) # skip first row\n",
    "    for row in reader:\n",
    "        queryID = queryToIdx[row[0]]\n",
    "        paperID = row[1]\n",
    "        score = row[-1]\n",
    "        dupDetectionDict[QueryPaperTuple(queryID, paperID)] = score"
   ]
  },
  {
   "cell_type": "code",
   "execution_count": 29,
   "metadata": {},
   "outputs": [],
   "source": [
    "fileName = 'entityAnnotations2.csv'     ## annotated.csv  entityAnnotations.csv entityAnnotationsSiamese.csv\n",
    "filePath = './data/'\n",
    "#dupDetectionDict = dict()\n",
    "annotationFile = filePath + fileName\n",
    "with open (annotationFile,'r') as csv_file:\n",
    "    reader =csv.reader(csv_file)\n",
    "    next(reader) # skip first row\n",
    "    for row in reader:\n",
    "        queryID = queryToIdx[row[0]]\n",
    "        paperID = row[1]\n",
    "        score = row[-1]\n",
    "        if QueryPaperTuple(queryID, paperID) in dupDetectionDict and score != dupDetectionDict[QueryPaperTuple(queryID, paperID)]:\n",
    "            print('discrepancy', queryID, paperID, score, dupDetectionDict[QueryPaperTuple(queryID, paperID)])\n",
    "        else:\n",
    "            dupDetectionDict[QueryPaperTuple(queryID, paperID)] = score"
   ]
  },
  {
   "cell_type": "code",
   "execution_count": 30,
   "metadata": {},
   "outputs": [],
   "source": [
    "fileName = 'entityAnnotationsSiamese.csv'     ## annotated.csv  entityAnnotations.csv entityAnnotationsSiamese.csv\n",
    "filePath = './data/'\n",
    "annotationFile = filePath + fileName\n",
    "with open (annotationFile,'r') as csv_file:\n",
    "    reader =csv.reader(csv_file)\n",
    "    next(reader) # skip first row\n",
    "    for row in reader:\n",
    "        queryID = queryToIdx[row[0]]\n",
    "        paperID = row[1]\n",
    "        score = row[-1]\n",
    "        if QueryPaperTuple(queryID, paperID) in dupDetectionDict and score != dupDetectionDict[QueryPaperTuple(queryID, paperID)]:\n",
    "            print('discrepancy', queryID, paperID, score, dupDetectionDict[QueryPaperTuple(queryID, paperID)])\n",
    "        else:\n",
    "            dupDetectionDict[QueryPaperTuple(queryID, paperID)] = score"
   ]
  },
  {
   "cell_type": "code",
   "execution_count": 41,
   "metadata": {},
   "outputs": [],
   "source": [
    "with open('./data/annotations.qrel', 'w') as outfile:\n",
    "    for queryPaperTuple in dupDetectionDict.keys():\n",
    "        writeString = str(queryPaperTuple.queryID) + ' '+ '0' + ' ' + queryPaperTuple.paperID + ' '+ str(dupDetectionDict[queryPaperTuple])\n",
    "        outfile.write(writeString)\n",
    "        outfile.write('\\n')"
   ]
  },
  {
   "cell_type": "code",
   "execution_count": 43,
   "metadata": {},
   "outputs": [],
   "source": [
    "queryList = ['converting text to speech', 'Big data', 'efficient estimation of word representations in vector space', 'natural language interface', 'reinforcement learning in video game']\n",
    "queryToIdx = {queryList[i]:i for i in range(len(queryList))}\n",
    "annotationDict = [{} for i in range(len(queryList) + 1)]    # + 1 for 1 based indexing in\n",
    "with open('./data/annotations.qrel') as file:\n",
    "    for line in file:\n",
    "        lineString = line.split()\n",
    "        qid = int(lineString[0])\n",
    "        docno = lineString[2]\n",
    "        relScore = int(lineString[-1])\n",
    "        annotationDict[qid][docno] = relScore"
   ]
  },
  {
   "cell_type": "code",
   "execution_count": 45,
   "metadata": {},
   "outputs": [],
   "source": [
    "def dcg(relevanceScores, k = 10, method=0):\n",
    "    \"\"\"\n",
    "    Returns discounted cumulative gain (dcg)\n",
    "    Args:\n",
    "        r: Relevance scores (list or numpy) in rank order\n",
    "            (first element is the first item)\n",
    "        k: Number of results to consider\n",
    "        method: If 0 then weights are [1.0, 1.0, 0.6309, 0.5, 0.4307, ...]\n",
    "                If 1 then weights are [1.0, 0.6309, 0.5, 0.4307, ...]\n",
    "    Returns:\n",
    "        Discounted cumulative gain\n",
    "    \"\"\"\n",
    "    relevanceScores = np.asfarray(relevanceScores)[:k]\n",
    "    if relevanceScores.size:\n",
    "        if method == 0:\n",
    "            return relevanceScores[0] + np.sum(relevanceScores[1:] / np.log2(np.arange(2, relevanceScores.size + 1)))\n",
    "        elif method == 1:\n",
    "            return np.sum(r / np.log2(np.arange(2, r.size + 2)))\n",
    "        else:\n",
    "            raise ValueError('method must be 0 or 1.')\n",
    "    return 0\n",
    "\n",
    "def ndcgMax(relevanceScores, k=10, method=0):\n",
    "    return dcg(sorted(relevanceScores, reverse=True), k, method)\n",
    "\n",
    "def ndcg(relevanceScores, ndcgMax, k = 10, method=0):\n",
    "    return dcg(relevanceScores, k, method) / ndcgMax\n",
    "    "
   ]
  },
  {
   "cell_type": "code",
   "execution_count": 50,
   "metadata": {},
   "outputs": [],
   "source": [
    "ndcgMaxPerQuery = []\n",
    "for i in range(len(queryList)):\n",
    "    ndcgMaxPerQuery.append(ndcgMax(list(annotationDict[i].values())))"
   ]
  },
  {
   "cell_type": "code",
   "execution_count": 52,
   "metadata": {},
   "outputs": [],
   "source": [
    "relevanceScores= []\n",
    "### search_results.json 5, entity_search_results.json 6, entity_search_resultsSiamese.json 1\n",
    "filePath = './data/'\n",
    "\n",
    "fileName = 'entity_search_resultsSiamese.json'\n",
    "annotationFile = filePath + fileName\n",
    "\n",
    "with open(annotationFile, 'r') as file:\n",
    "    for line in file:\n",
    "        data = json.loads(line)\n",
    "        result = data['result']\n",
    "        for i in range(len(result)):\n",
    "            result[i] = [annotationDict[i].get(ID, 0) for ID in result[i]]\n",
    "        relevanceScores.append(result)\n",
    "results = []\n",
    "meanScores = []\n",
    "\n",
    "for i in range(len(relevanceScores)):\n",
    "    relScoresForThisMethod = relevanceScores[i]\n",
    "    ndcgScoresMethod = []\n",
    "    for q in range(len(queryList)):\n",
    "        ndcgScoresMethod.append(ndcg(relScoresForThisMethod[q], ndcgMaxPerQuery[q]))\n",
    "    results.append(ndcgScoresMethod)\n",
    "    meanScores.append(np.mean(ndcgScoresMethod))"
   ]
  },
  {
   "cell_type": "code",
   "execution_count": 53,
   "metadata": {},
   "outputs": [
    {
     "name": "stdout",
     "output_type": "stream",
     "text": [
      "[0.9879925699387805]\n"
     ]
    }
   ],
   "source": [
    "print(meanScores)"
   ]
  },
  {
   "cell_type": "code",
   "execution_count": 54,
   "metadata": {},
   "outputs": [
    {
     "name": "stdout",
     "output_type": "stream",
     "text": [
      "[1.0, 1.0, 1.0, 1.0, 0.94]\n"
     ]
    }
   ],
   "source": [
    "for result in results:\n",
    "    result = [round(i, 2) for i in result]\n",
    "    print(result)"
   ]
  },
  {
   "cell_type": "code",
   "execution_count": null,
   "metadata": {},
   "outputs": [],
   "source": []
  }
 ],
 "metadata": {
  "kernelspec": {
   "display_name": "Python 3",
   "language": "python",
   "name": "python3"
  },
  "language_info": {
   "codemirror_mode": {
    "name": "ipython",
    "version": 3
   },
   "file_extension": ".py",
   "mimetype": "text/x-python",
   "name": "python",
   "nbconvert_exporter": "python",
   "pygments_lexer": "ipython3",
   "version": "3.7.6"
  }
 },
 "nbformat": 4,
 "nbformat_minor": 4
}
