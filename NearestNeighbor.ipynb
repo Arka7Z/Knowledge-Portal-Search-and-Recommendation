{
 "cells": [
  {
   "cell_type": "code",
   "execution_count": 3,
   "metadata": {},
   "outputs": [],
   "source": [
    "import json\n",
    "import numpy as np\n",
    "import hnswlib"
   ]
  },
  {
   "cell_type": "code",
   "execution_count": 4,
   "metadata": {},
   "outputs": [],
   "source": [
    "dimension = 16\n",
    "numElements = 100"
   ]
  },
  {
   "cell_type": "code",
   "execution_count": 6,
   "metadata": {},
   "outputs": [],
   "source": [
    "data = np.float32(np.random.random((numElements, dimension)))"
   ]
  },
  {
   "cell_type": "code",
   "execution_count": 8,
   "metadata": {},
   "outputs": [],
   "source": [
    "data1 = data[:numElements // 2]\n",
    "data2 = data[numElements // 2:]"
   ]
  },
  {
   "cell_type": "code",
   "execution_count": 13,
   "metadata": {},
   "outputs": [
    {
     "data": {
      "text/plain": [
       "array([[0.31966615, 0.4631508 , 0.9576948 , ..., 0.65229934, 0.94523656,\n",
       "        0.8806226 ],\n",
       "       [0.2290776 , 0.82432044, 0.23329155, ..., 0.7190801 , 0.37603498,\n",
       "        0.15270254],\n",
       "       [0.17584477, 0.32184175, 0.22162323, ..., 0.357019  , 0.9055558 ,\n",
       "        0.8372053 ],\n",
       "       ...,\n",
       "       [0.85544354, 0.9588192 , 0.21561944, ..., 0.82639086, 0.2895264 ,\n",
       "        0.8791019 ],\n",
       "       [0.33412936, 0.9085951 , 0.7280573 , ..., 0.08073778, 0.9071431 ,\n",
       "        0.38801873],\n",
       "       [0.32107872, 0.733728  , 0.99954027, ..., 0.8352785 , 0.7639304 ,\n",
       "        0.83419204]], dtype=float32)"
      ]
     },
     "execution_count": 13,
     "metadata": {},
     "output_type": "execute_result"
    }
   ],
   "source": [
    "data"
   ]
  },
  {
   "cell_type": "code",
   "execution_count": 15,
   "metadata": {},
   "outputs": [],
   "source": [
    "data_labels = np.arange(numElements)"
   ]
  },
  {
   "cell_type": "code",
   "execution_count": 16,
   "metadata": {},
   "outputs": [
    {
     "data": {
      "text/plain": [
       "array([ 0,  1,  2,  3,  4,  5,  6,  7,  8,  9, 10, 11, 12, 13, 14, 15, 16,\n",
       "       17, 18, 19, 20, 21, 22, 23, 24, 25, 26, 27, 28, 29, 30, 31, 32, 33,\n",
       "       34, 35, 36, 37, 38, 39, 40, 41, 42, 43, 44, 45, 46, 47, 48, 49, 50,\n",
       "       51, 52, 53, 54, 55, 56, 57, 58, 59, 60, 61, 62, 63, 64, 65, 66, 67,\n",
       "       68, 69, 70, 71, 72, 73, 74, 75, 76, 77, 78, 79, 80, 81, 82, 83, 84,\n",
       "       85, 86, 87, 88, 89, 90, 91, 92, 93, 94, 95, 96, 97, 98, 99])"
      ]
     },
     "execution_count": 16,
     "metadata": {},
     "output_type": "execute_result"
    }
   ],
   "source": [
    "data_labels"
   ]
  },
  {
   "cell_type": "code",
   "execution_count": 20,
   "metadata": {},
   "outputs": [],
   "source": [
    "lis = [[1,2,3, 5], [3,4,5, 7], [5,6,7, 8]]"
   ]
  },
  {
   "cell_type": "code",
   "execution_count": 21,
   "metadata": {},
   "outputs": [],
   "source": [
    "arr = np.asarray(lis)"
   ]
  },
  {
   "cell_type": "code",
   "execution_count": 32,
   "metadata": {},
   "outputs": [
    {
     "data": {
      "text/plain": [
       "array([1, 2, 3, 5])"
      ]
     },
     "execution_count": 32,
     "metadata": {},
     "output_type": "execute_result"
    }
   ],
   "source": [
    "arr[0]"
   ]
  },
  {
   "cell_type": "code",
   "execution_count": 23,
   "metadata": {},
   "outputs": [],
   "source": [
    "p = hnswlib.Index(space = 'l2', dim = dimension) # possible options are l2, cosine or ip\n",
    "\n",
    "# Initing index - the maximum number of elements should be known beforehand\n",
    "p.init_index(max_elements = numElements, ef_construction = 200, M = 7)\n",
    "\n",
    "# Element insertion (can be called several times):\n",
    "p.add_items(data, data_labels)\n",
    "\n",
    "# Controlling the recall by setting ef:\n",
    "p.set_ef(50) # ef should always be > k\n",
    "\n",
    "# Query dataset, k - number of closest elements (returns 2 numpy arrays)\n",
    "labels, _ = p.knn_query(data, k = 3)"
   ]
  },
  {
   "cell_type": "code",
   "execution_count": 29,
   "metadata": {},
   "outputs": [],
   "source": [
    "labels = labels.tolist()"
   ]
  },
  {
   "cell_type": "code",
   "execution_count": 30,
   "metadata": {},
   "outputs": [
    {
     "data": {
      "text/plain": [
       "[[0, 85, 8],\n",
       " [1, 77, 58],\n",
       " [2, 14, 69],\n",
       " [3, 15, 69],\n",
       " [4, 64, 22],\n",
       " [5, 96, 60],\n",
       " [6, 93, 52],\n",
       " [7, 95, 89],\n",
       " [8, 0, 80],\n",
       " [9, 31, 98],\n",
       " [10, 60, 1],\n",
       " [11, 42, 41],\n",
       " [12, 43, 77],\n",
       " [13, 27, 83],\n",
       " [14, 2, 44],\n",
       " [15, 3, 81],\n",
       " [16, 86, 26],\n",
       " [17, 20, 51],\n",
       " [18, 69, 19],\n",
       " [19, 48, 32],\n",
       " [20, 17, 30],\n",
       " [21, 51, 28],\n",
       " [22, 49, 72],\n",
       " [23, 83, 77],\n",
       " [24, 41, 3],\n",
       " [25, 68, 58],\n",
       " [26, 56, 47],\n",
       " [27, 13, 95],\n",
       " [28, 21, 92],\n",
       " [29, 50, 92],\n",
       " [30, 77, 58],\n",
       " [31, 9, 48],\n",
       " [32, 19, 1],\n",
       " [33, 31, 48],\n",
       " [34, 93, 22],\n",
       " [35, 84, 91],\n",
       " [36, 74, 99],\n",
       " [37, 73, 75],\n",
       " [38, 83, 37],\n",
       " [39, 83, 52],\n",
       " [40, 98, 31],\n",
       " [41, 42, 66],\n",
       " [42, 41, 62],\n",
       " [43, 12, 94],\n",
       " [44, 79, 15],\n",
       " [45, 74, 83],\n",
       " [46, 92, 62],\n",
       " [47, 49, 22],\n",
       " [48, 61, 86],\n",
       " [49, 22, 64],\n",
       " [50, 92, 29],\n",
       " [51, 55, 21],\n",
       " [52, 6, 59],\n",
       " [53, 86, 48],\n",
       " [54, 51, 61],\n",
       " [55, 51, 78],\n",
       " [56, 26, 52],\n",
       " [57, 59, 96],\n",
       " [58, 48, 30],\n",
       " [59, 75, 61],\n",
       " [60, 62, 10],\n",
       " [61, 48, 86],\n",
       " [62, 60, 87],\n",
       " [63, 51, 62],\n",
       " [64, 49, 22],\n",
       " [65, 49, 10],\n",
       " [66, 99, 93],\n",
       " [67, 77, 83],\n",
       " [68, 25, 64],\n",
       " [69, 67, 78],\n",
       " [70, 99, 53],\n",
       " [71, 85, 47],\n",
       " [72, 22, 49],\n",
       " [73, 37, 88],\n",
       " [74, 94, 48],\n",
       " [75, 59, 83],\n",
       " [76, 22, 94],\n",
       " [77, 83, 67],\n",
       " [78, 55, 69],\n",
       " [79, 44, 14],\n",
       " [80, 48, 13],\n",
       " [81, 15, 90],\n",
       " [82, 67, 96],\n",
       " [83, 23, 77],\n",
       " [84, 35, 91],\n",
       " [85, 0, 71],\n",
       " [86, 48, 91],\n",
       " [87, 62, 43],\n",
       " [88, 77, 83],\n",
       " [89, 78, 35],\n",
       " [90, 81, 23],\n",
       " [91, 86, 48],\n",
       " [92, 96, 50],\n",
       " [93, 49, 6],\n",
       " [94, 77, 60],\n",
       " [95, 27, 96],\n",
       " [96, 92, 95],\n",
       " [97, 86, 69],\n",
       " [98, 40, 77],\n",
       " [99, 70, 66]]"
      ]
     },
     "execution_count": 30,
     "metadata": {},
     "output_type": "execute_result"
    }
   ],
   "source": [
    "labels"
   ]
  },
  {
   "cell_type": "code",
   "execution_count": 34,
   "metadata": {},
   "outputs": [],
   "source": [
    "IDList = []\n",
    "NNList = []\n",
    "embeddings = []\n",
    "with open('dblpAbstractFTEmbeddings.json', 'r') as file:\n",
    "    for line in file:\n",
    "        data = json.loads(line)\n",
    "        paperID = data['id']\n",
    "        embedding = data['embedding']\n",
    "        IDList.append(paperID)\n",
    "        embeddings.append(embedding)"
   ]
  },
  {
   "cell_type": "code",
   "execution_count": 35,
   "metadata": {},
   "outputs": [],
   "source": [
    "numElements = len(IDList)\n",
    "dimension = len(embeddings[0])\n",
    "embeddings = np.asarray(embeddings)\n",
    "data_labels = np.arange(numElements)"
   ]
  },
  {
   "cell_type": "code",
   "execution_count": 36,
   "metadata": {},
   "outputs": [],
   "source": [
    "p = hnswlib.Index(space = 'cosine', dim = dimension) # possible options are l2, cosine or ip\n",
    "\n",
    "# Initing index - the maximum number of elements should be known beforehand\n",
    "p.init_index(max_elements = numElements, ef_construction = 200, M = 20)\n",
    "\n",
    "# Element insertion (can be called several times):\n",
    "p.add_items(embeddings, data_labels)\n",
    "\n",
    "# Controlling the recall by setting ef:\n",
    "p.set_ef(50) # ef should always be > k\n",
    "\n",
    "# Query dataset, k - number of closest elements (returns 2 numpy arrays)\n",
    "labels, _ = p.knn_query(embeddings, k = 5)"
   ]
  },
  {
   "cell_type": "code",
   "execution_count": 37,
   "metadata": {},
   "outputs": [
    {
     "name": "stdout",
     "output_type": "stream",
     "text": [
      "Saving index to 'fastTexthnswlib.bin'\n"
     ]
    }
   ],
   "source": [
    "index_path='fastTexthnswlib.bin'\n",
    "print(\"Saving index to '%s'\" % index_path)\n",
    "p.save_index(\"fastTexthnswlib.bin\")\n",
    "del p"
   ]
  },
  {
   "cell_type": "code",
   "execution_count": 38,
   "metadata": {},
   "outputs": [
    {
     "data": {
      "text/plain": [
       "array([ 136396,  408376, 1222837,  485560,  586113], dtype=uint64)"
      ]
     },
     "execution_count": 38,
     "metadata": {},
     "output_type": "execute_result"
    }
   ],
   "source": [
    "labels[0]"
   ]
  },
  {
   "cell_type": "code",
   "execution_count": null,
   "metadata": {},
   "outputs": [],
   "source": []
  }
 ],
 "metadata": {
  "kernelspec": {
   "display_name": "Python 3",
   "language": "python",
   "name": "python3"
  },
  "language_info": {
   "codemirror_mode": {
    "name": "ipython",
    "version": 3
   },
   "file_extension": ".py",
   "mimetype": "text/x-python",
   "name": "python",
   "nbconvert_exporter": "python",
   "pygments_lexer": "ipython3",
   "version": "3.7.3"
  }
 },
 "nbformat": 4,
 "nbformat_minor": 2
}
