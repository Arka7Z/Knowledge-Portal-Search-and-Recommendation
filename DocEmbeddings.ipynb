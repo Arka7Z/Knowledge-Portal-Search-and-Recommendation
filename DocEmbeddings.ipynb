{
 "cells": [
  {
   "cell_type": "code",
   "execution_count": 3,
   "metadata": {},
   "outputs": [],
   "source": [
    "import json\n",
    "import re\n",
    "import fasttext \n",
    "import numpy as np\n",
    "from tqdm import notebook.tqdm as tqdm"
   ]
  },
  {
   "cell_type": "code",
   "execution_count": 4,
   "metadata": {},
   "outputs": [],
   "source": [
    "import tensorflow as tf\n",
    "import tensorflow_hub as hub"
   ]
  },
  {
   "cell_type": "code",
   "execution_count": 5,
   "metadata": {},
   "outputs": [],
   "source": [
    "AITopLevelTopics = ['Artificial intelligence', 'Computer vision', 'Data mining',\n",
    "                     'Data science', 'Machine learning', 'Natural language processing',\n",
    "                     'Pattern recognition', 'Speech recognition']\n",
    "with open(\"dblpPaperIDs.json\", 'r') as f:\n",
    "    paperList = json.load(f)\n",
    "papersUnderConsideration = set(paperList)"
   ]
  },
  {
   "cell_type": "code",
   "execution_count": 6,
   "metadata": {},
   "outputs": [
    {
     "name": "stderr",
     "output_type": "stream",
     "text": [
      "\n"
     ]
    }
   ],
   "source": [
    "fasttextModel = fasttext.load_model('crawl-300d-2M-subword.bin')"
   ]
  },
  {
   "cell_type": "code",
   "execution_count": 25,
   "metadata": {},
   "outputs": [],
   "source": [
    "with open('./data/dblp_AIpapers2Thresholded.json', 'r') as file:\n",
    "    with open('./data/dblpAbstract_2Thresholded_FT_Embeddings.json', 'w') as outfile:\n",
    "        for line in tqdm(file):\n",
    "            data = json.loads(line)\n",
    "            paperID = data['id'] \n",
    "            abstractWordList = data.get('abstract',[])\n",
    "            abstractString = ' '.join(word for word in abstractWordList)\n",
    "            abstractString = abstractString.replace('\\n', ' ').replace('\\r', '')\n",
    "            embedding = fasttextModel.get_sentence_vector(abstractString).tolist()    # while reading use np.asarray to convert to np array\n",
    "            outDict = dict()\n",
    "            outDict['id'] = paperID\n",
    "            outDict['embedding'] = embedding\n",
    "            json.dump(outDict, outfile)\n",
    "            outfile.write('\\n')"
   ]
  },
  {
   "cell_type": "code",
   "execution_count": 7,
   "metadata": {},
   "outputs": [
    {
     "name": "stderr",
     "output_type": "stream",
     "text": [
      "/home/du0/15CS30003/anaconda3/lib/python3.7/site-packages/ipykernel_launcher.py:3: TqdmDeprecationWarning: This function will be removed in tqdm==5.0.0\n",
      "Please use `tqdm.notebook.tqdm` instead of `tqdm.tqdm_notebook`\n",
      "  This is separate from the ipykernel package so we can avoid doing imports until\n"
     ]
    },
    {
     "data": {
      "application/vnd.jupyter.widget-view+json": {
       "model_id": "7d9808357e354461bb9408de216e2aee",
       "version_major": 2,
       "version_minor": 0
      },
      "text/plain": [
       "HBox(children=(FloatProgress(value=1.0, bar_style='info', max=1.0), HTML(value='')))"
      ]
     },
     "metadata": {},
     "output_type": "display_data"
    },
    {
     "name": "stdout",
     "output_type": "stream",
     "text": [
      "\n"
     ]
    }
   ],
   "source": [
    "with open('./data/dblp_AIpapers2Thresholded.json', 'r') as file:\n",
    "    with open('./data/dblpTitle_2Thresholded_FT_Embeddings.json', 'w') as outfile:\n",
    "        for line in tqdm(file):\n",
    "            data = json.loads(line)\n",
    "            paperID = data['id'] \n",
    "            title = data.get('title','')\n",
    "            title = title.replace('\\n', ' ').replace('\\r', '')\n",
    "            embedding = fasttextModel.get_sentence_vector(title).tolist()    # while reading use np.asarray to convert to np array\n",
    "            outDict = dict()\n",
    "            outDict['id'] = paperID\n",
    "            outDict['embedding'] = embedding\n",
    "            json.dump(outDict, outfile)\n",
    "            outfile.write('\\n')"
   ]
  },
  {
   "cell_type": "code",
   "execution_count": 8,
   "metadata": {},
   "outputs": [],
   "source": [
    "tf.enable_eager_execution()"
   ]
  },
  {
   "cell_type": "code",
   "execution_count": 9,
   "metadata": {},
   "outputs": [],
   "source": [
    "tf.enable_eager_execution()\n",
    "module_url = \"./module/UnivTrans\" #@param [\"https://tfhub.dev/google/universal-sentence-encoder/4\", \"https://tfhub.dev/google/universal-sentence-encoder-large/5\"]\n",
    "model = hub.load(module_url)\n",
    "def embed(inputText):\n",
    "    return model(inputText)"
   ]
  },
  {
   "cell_type": "code",
   "execution_count": 29,
   "metadata": {},
   "outputs": [
    {
     "name": "stderr",
     "output_type": "stream",
     "text": [
      "INFO:root:count: 0\n",
      "INFO:root:count: 10000\n",
      "INFO:root:count: 20000\n",
      "INFO:root:count: 30000\n",
      "INFO:root:count: 40000\n",
      "INFO:root:count: 50000\n",
      "INFO:root:count: 60000\n",
      "INFO:root:count: 70000\n",
      "INFO:root:count: 80000\n",
      "INFO:root:count: 90000\n",
      "INFO:root:count: 100000\n",
      "INFO:root:count: 110000\n",
      "INFO:root:count: 120000\n",
      "INFO:root:count: 130000\n",
      "INFO:root:count: 140000\n",
      "INFO:root:count: 150000\n",
      "INFO:root:count: 160000\n",
      "INFO:root:count: 170000\n",
      "INFO:root:count: 180000\n",
      "INFO:root:count: 190000\n",
      "INFO:root:count: 200000\n",
      "INFO:root:count: 210000\n",
      "INFO:root:count: 220000\n",
      "INFO:root:count: 230000\n",
      "INFO:root:count: 240000\n",
      "INFO:root:count: 250000\n",
      "INFO:root:count: 260000\n",
      "INFO:root:count: 270000\n",
      "INFO:root:count: 280000\n",
      "INFO:root:count: 290000\n",
      "INFO:root:count: 300000\n",
      "INFO:root:count: 310000\n",
      "INFO:root:count: 320000\n",
      "INFO:root:count: 330000\n",
      "INFO:root:count: 340000\n",
      "INFO:root:count: 350000\n",
      "INFO:root:count: 360000\n",
      "INFO:root:count: 370000\n",
      "INFO:root:count: 380000\n",
      "INFO:root:count: 390000\n",
      "INFO:root:count: 400000\n",
      "INFO:root:count: 410000\n",
      "INFO:root:count: 420000\n",
      "INFO:root:count: 430000\n",
      "INFO:root:count: 440000\n",
      "INFO:root:count: 450000\n",
      "INFO:root:count: 460000\n",
      "INFO:root:count: 470000\n"
     ]
    }
   ],
   "source": [
    "with open('./data/dblp_AIpapers2Thresholded.json', 'r') as file:\n",
    "    with open('./data/dblp_Abstract_2Thresholded_USE_Trans_Embeddings.json', 'w') as outfile:\n",
    "        for line in file:\n",
    "            data = json.loads(line)\n",
    "            paperID = data['id'] \n",
    "            abstractWordList = data.get('abstract',[])\n",
    "            abstractString = ' '.join(word for word in abstractWordList)\n",
    "            abstractString = abstractString.replace('\\n', ' ').replace('\\r', '')\n",
    "            embedding = embed([abstractString])[0].numpy()\n",
    "            outDict = dict()\n",
    "            outDict['id'] = paperID\n",
    "            outDict['embedding'] = embedding.tolist()\n",
    "            json.dump(outDict, outfile)\n",
    "            outfile.write('\\n')"
   ]
  },
  {
   "cell_type": "code",
   "execution_count": 10,
   "metadata": {},
   "outputs": [
    {
     "name": "stderr",
     "output_type": "stream",
     "text": [
      "/home/du0/15CS30003/anaconda3/lib/python3.7/site-packages/ipykernel_launcher.py:3: TqdmDeprecationWarning: This function will be removed in tqdm==5.0.0\n",
      "Please use `tqdm.notebook.tqdm` instead of `tqdm.tqdm_notebook`\n",
      "  This is separate from the ipykernel package so we can avoid doing imports until\n"
     ]
    },
    {
     "data": {
      "application/vnd.jupyter.widget-view+json": {
       "model_id": "f09071f70d8d4938bfe0ce6f44fd6464",
       "version_major": 2,
       "version_minor": 0
      },
      "text/plain": [
       "HBox(children=(FloatProgress(value=1.0, bar_style='info', max=1.0), HTML(value='')))"
      ]
     },
     "metadata": {},
     "output_type": "display_data"
    },
    {
     "name": "stdout",
     "output_type": "stream",
     "text": [
      "\n"
     ]
    }
   ],
   "source": [
    "with open('./data/dblp_AIpapers2Thresholded.json', 'r') as file:\n",
    "    with open('./data/dblp_Title_2Thresholded_USE_Trans_Embeddings.json', 'w') as outfile:\n",
    "        for line in tqdm(file):\n",
    "            data = json.loads(line)\n",
    "            paperID = data['id'] \n",
    "            title = data.get('title','')\n",
    "            title = title.replace('\\n', ' ').replace('\\r', '')\n",
    "            embedding = embed([title])[0].numpy()\n",
    "            outDict = dict()\n",
    "            outDict['id'] = paperID\n",
    "            outDict['embedding'] = embedding.tolist()\n",
    "            json.dump(outDict, outfile)\n",
    "            outfile.write('\\n')\n"
   ]
  },
  {
   "cell_type": "code",
   "execution_count": null,
   "metadata": {},
   "outputs": [],
   "source": []
  }
 ],
 "metadata": {
  "kernelspec": {
   "display_name": "Python 3",
   "language": "python",
   "name": "python3"
  },
  "language_info": {
   "codemirror_mode": {
    "name": "ipython",
    "version": 3
   },
   "file_extension": ".py",
   "mimetype": "text/x-python",
   "name": "python",
   "nbconvert_exporter": "python",
   "pygments_lexer": "ipython3",
   "version": "3.7.3"
  }
 },
 "nbformat": 4,
 "nbformat_minor": 2
}
