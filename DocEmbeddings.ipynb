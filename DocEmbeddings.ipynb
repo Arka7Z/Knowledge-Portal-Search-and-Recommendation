{
 "cells": [
  {
   "cell_type": "code",
   "execution_count": 1,
   "metadata": {},
   "outputs": [],
   "source": [
    "import json\n",
    "import re\n",
    "import fasttext \n",
    "import numpy as np\n",
    "from tqdm.notebook import tqdm"
   ]
  },
  {
   "cell_type": "code",
   "execution_count": 11,
   "metadata": {},
   "outputs": [],
   "source": [
    "import tensorflow as tf\n",
    "import tensorflow_hub as hub"
   ]
  },
  {
   "cell_type": "code",
   "execution_count": 2,
   "metadata": {},
   "outputs": [],
   "source": [
    "AITopLevelTopics = ['Artificial intelligence', 'Computer vision', 'Data mining',\n",
    "                     'Data science', 'Machine learning', 'Natural language processing',\n",
    "                     'Pattern recognition', 'Speech recognition']\n",
    "with open(\"./data/dblpPaperIDs2Thresholded.json\", 'r') as f:\n",
    "    paperList = json.load(f)\n",
    "papersUnderConsideration = set(paperList)"
   ]
  },
  {
   "cell_type": "code",
   "execution_count": 3,
   "metadata": {},
   "outputs": [
    {
     "name": "stderr",
     "output_type": "stream",
     "text": [
      "\n"
     ]
    }
   ],
   "source": [
    "fasttextModel = fasttext.load_model('crawl-300d-2M-subword.bin')"
   ]
  },
  {
   "cell_type": "code",
   "execution_count": 5,
   "metadata": {},
   "outputs": [],
   "source": [
    "import string\n",
    "translator = str.maketrans('', '', string.punctuation) "
   ]
  },
  {
   "cell_type": "code",
   "execution_count": 8,
   "metadata": {},
   "outputs": [
    {
     "data": {
      "application/vnd.jupyter.widget-view+json": {
       "model_id": "de4a97b07b074660ad704c873498d79d",
       "version_major": 2,
       "version_minor": 0
      },
      "text/plain": [
       "HBox(children=(FloatProgress(value=1.0, bar_style='info', max=1.0), HTML(value='')))"
      ]
     },
     "metadata": {},
     "output_type": "display_data"
    },
    {
     "name": "stdout",
     "output_type": "stream",
     "text": [
      "\n"
     ]
    }
   ],
   "source": [
    "with open('./data/dblp_AIpapers2Thresholded.json', 'r') as file:\n",
    "    with open('./data/dblpAbstract_2Thresholded_FT_Embeddings.json', 'w') as outfile:\n",
    "        for line in tqdm(file):\n",
    "            data = json.loads(line)\n",
    "            paperID = data['id'] \n",
    "            abstractWordList = data.get('abstract',[])\n",
    "            abstractString = ' '.join(word for word in abstractWordList)\n",
    "            abstractString = abstractString.replace('\\n', ' ').replace('\\r', '')\n",
    "            embedding = fasttextModel.get_sentence_vector(abstractString).tolist()    # while reading use np.asarray to convert to np array\n",
    "            outDict = dict()\n",
    "            outDict['id'] = paperID\n",
    "            outDict['embedding'] = embedding\n",
    "            json.dump(outDict, outfile)\n",
    "            outfile.write('\\n')"
   ]
  },
  {
   "cell_type": "code",
   "execution_count": 9,
   "metadata": {},
   "outputs": [
    {
     "data": {
      "application/vnd.jupyter.widget-view+json": {
       "model_id": "4d9b790e03624e28baa6dbeaf9cd15e0",
       "version_major": 2,
       "version_minor": 0
      },
      "text/plain": [
       "HBox(children=(FloatProgress(value=1.0, bar_style='info', max=1.0), HTML(value='')))"
      ]
     },
     "metadata": {},
     "output_type": "display_data"
    },
    {
     "name": "stdout",
     "output_type": "stream",
     "text": [
      "\n"
     ]
    }
   ],
   "source": [
    "with open('./data/dblp_AIpapers2Thresholded.json', 'r') as file:\n",
    "    with open('./data/dblpTitle_2Thresholded_FT_Embeddings.json', 'w') as outfile:\n",
    "        for line in tqdm(file):\n",
    "            data = json.loads(line)\n",
    "            paperID = data['id'] \n",
    "            title = data.get('title','')\n",
    "            title = title.replace('\\n', ' ').replace('\\r', '')\n",
    "            embedding = fasttextModel.get_sentence_vector(title).tolist()    # while reading use np.asarray to convert to np array\n",
    "            outDict = dict()\n",
    "            outDict['id'] = paperID\n",
    "            outDict['embedding'] = embedding\n",
    "            json.dump(outDict, outfile)\n",
    "            outfile.write('\\n')"
   ]
  },
  {
   "cell_type": "code",
   "execution_count": 8,
   "metadata": {},
   "outputs": [],
   "source": [
    "tf.enable_eager_execution()"
   ]
  },
  {
   "cell_type": "code",
   "execution_count": 13,
   "metadata": {},
   "outputs": [],
   "source": [
    "module_url = \"./module/UnivTrans\" #@param [\"https://tfhub.dev/google/universal-sentence-encoder/4\", \"https://tfhub.dev/google/universal-sentence-encoder-large/5\"]\n",
    "model = hub.load(module_url)\n",
    "def embed(inputText):\n",
    "    return model(inputText)"
   ]
  },
  {
   "cell_type": "code",
   "execution_count": 29,
   "metadata": {},
   "outputs": [
    {
     "name": "stderr",
     "output_type": "stream",
     "text": [
      "INFO:root:count: 0\n",
      "INFO:root:count: 10000\n",
      "INFO:root:count: 20000\n",
      "INFO:root:count: 30000\n",
      "INFO:root:count: 40000\n",
      "INFO:root:count: 50000\n",
      "INFO:root:count: 60000\n",
      "INFO:root:count: 70000\n",
      "INFO:root:count: 80000\n",
      "INFO:root:count: 90000\n",
      "INFO:root:count: 100000\n",
      "INFO:root:count: 110000\n",
      "INFO:root:count: 120000\n",
      "INFO:root:count: 130000\n",
      "INFO:root:count: 140000\n",
      "INFO:root:count: 150000\n",
      "INFO:root:count: 160000\n",
      "INFO:root:count: 170000\n",
      "INFO:root:count: 180000\n",
      "INFO:root:count: 190000\n",
      "INFO:root:count: 200000\n",
      "INFO:root:count: 210000\n",
      "INFO:root:count: 220000\n",
      "INFO:root:count: 230000\n",
      "INFO:root:count: 240000\n",
      "INFO:root:count: 250000\n",
      "INFO:root:count: 260000\n",
      "INFO:root:count: 270000\n",
      "INFO:root:count: 280000\n",
      "INFO:root:count: 290000\n",
      "INFO:root:count: 300000\n",
      "INFO:root:count: 310000\n",
      "INFO:root:count: 320000\n",
      "INFO:root:count: 330000\n",
      "INFO:root:count: 340000\n",
      "INFO:root:count: 350000\n",
      "INFO:root:count: 360000\n",
      "INFO:root:count: 370000\n",
      "INFO:root:count: 380000\n",
      "INFO:root:count: 390000\n",
      "INFO:root:count: 400000\n",
      "INFO:root:count: 410000\n",
      "INFO:root:count: 420000\n",
      "INFO:root:count: 430000\n",
      "INFO:root:count: 440000\n",
      "INFO:root:count: 450000\n",
      "INFO:root:count: 460000\n",
      "INFO:root:count: 470000\n"
     ]
    }
   ],
   "source": [
    "with open('./data/dblp_AIpapers2Thresholded.json', 'r') as file:\n",
    "    with open('./data/dblp_Abstract_2Thresholded_USE_Trans_Embeddings.json', 'w') as outfile:\n",
    "        for line in file:\n",
    "            data = json.loads(line)\n",
    "            paperID = data['id'] \n",
    "            abstractWordList = data.get('abstract',[])\n",
    "            abstractString = ' '.join(word for word in abstractWordList)\n",
    "            abstractString = abstractString.replace('\\n', ' ').replace('\\r', '')\n",
    "            embedding = embed([abstractString])[0].numpy()\n",
    "            outDict = dict()\n",
    "            outDict['id'] = paperID\n",
    "            outDict['embedding'] = embedding.tolist()\n",
    "            json.dump(outDict, outfile)\n",
    "            outfile.write('\\n')"
   ]
  },
  {
   "cell_type": "code",
   "execution_count": 15,
   "metadata": {},
   "outputs": [
    {
     "data": {
      "application/vnd.jupyter.widget-view+json": {
       "model_id": "c31b54cdeb654af7b6ecd94d59ebef76",
       "version_major": 2,
       "version_minor": 0
      },
      "text/plain": [
       "HBox(children=(FloatProgress(value=1.0, bar_style='info', max=1.0), HTML(value='')))"
      ]
     },
     "metadata": {},
     "output_type": "display_data"
    },
    {
     "name": "stdout",
     "output_type": "stream",
     "text": [
      "\n"
     ]
    }
   ],
   "source": [
    "records = []\n",
    "paperIDs = []\n",
    "with open('./data/dblp_AIpapers2Thresholded.json', 'r') as file:\n",
    "    for line in tqdm(file):\n",
    "            data = json.loads(line)\n",
    "            paperID = data['id'] \n",
    "            title = data.get('title','')\n",
    "            title = title.replace('\\n', ' ').replace('\\r', '')\n",
    "            records.append(title)\n",
    "            paperIDs.append(paperID)\n",
    "assert len(records) == len(paperIDs)"
   ]
  },
  {
   "cell_type": "code",
   "execution_count": 16,
   "metadata": {},
   "outputs": [],
   "source": [
    "n = 100     # block size\n",
    "records = [records[i:i + n] for i in range(0, len(records), n)]\n",
    "paperIDs = [paperIDs[i:i + n] for i in range(0, len(paperIDs), n)]"
   ]
  },
  {
   "cell_type": "code",
   "execution_count": 34,
   "metadata": {},
   "outputs": [
    {
     "data": {
      "application/vnd.jupyter.widget-view+json": {
       "model_id": "182ade6691744e82af597f970f4aa8d8",
       "version_major": 2,
       "version_minor": 0
      },
      "text/plain": [
       "HBox(children=(FloatProgress(value=0.0, max=4759.0), HTML(value='')))"
      ]
     },
     "metadata": {},
     "output_type": "display_data"
    },
    {
     "name": "stdout",
     "output_type": "stream",
     "text": [
      "\n"
     ]
    }
   ],
   "source": [
    "count = 0\n",
    "with open('./data/dblp_Title_2Thresholded_USE_Trans_Embeddings.json', 'w') as outfile:\n",
    "    for i in tqdm(range(len(records))):\n",
    "#         recordSubList = records[i]\n",
    "        paperIDSubList = paperIDs[i]\n",
    "        embeddings = embed(records[i]).numpy().tolist()\n",
    "        for embedding, paperID in zip(embeddings, paperIDSubList):\n",
    "        \n",
    "            outDict = dict()\n",
    "            outDict['id'] = paperID\n",
    "            outDict['embedding'] = embedding#.tolist()\n",
    "            json.dump(outDict, outfile)\n",
    "            outfile.write('\\n')\n",
    "\n"
   ]
  },
  {
   "cell_type": "code",
   "execution_count": 19,
   "metadata": {},
   "outputs": [
    {
     "data": {
      "text/plain": [
       "[([1, 2, 3], ['a', 'b']), ([4, 5, 6], ['c', 'd', 'e'])]"
      ]
     },
     "execution_count": 19,
     "metadata": {},
     "output_type": "execute_result"
    }
   ],
   "source": [
    "lis =[ [1,2,3], [4, 5,6]]\n",
    "lis2 = [['a','b'], ['c', 'd', 'e']]\n",
    "list(zip(lis, lis2))"
   ]
  },
  {
   "cell_type": "code",
   "execution_count": 33,
   "metadata": {},
   "outputs": [],
   "source": [
    "for i in range(3):\n",
    "    embed(records[i]).numpy()"
   ]
  },
  {
   "cell_type": "code",
   "execution_count": 27,
   "metadata": {},
   "outputs": [
    {
     "data": {
      "text/plain": [
       "True"
      ]
     },
     "execution_count": 27,
     "metadata": {},
     "output_type": "execute_result"
    }
   ],
   "source": [
    "len(records) == len(paperIDs)"
   ]
  },
  {
   "cell_type": "code",
   "execution_count": null,
   "metadata": {},
   "outputs": [],
   "source": []
  }
 ],
 "metadata": {
  "kernelspec": {
   "display_name": "Python 3",
   "language": "python",
   "name": "python3"
  },
  "language_info": {
   "codemirror_mode": {
    "name": "ipython",
    "version": 3
   },
   "file_extension": ".py",
   "mimetype": "text/x-python",
   "name": "python",
   "nbconvert_exporter": "python",
   "pygments_lexer": "ipython3",
   "version": "3.7.6"
  }
 },
 "nbformat": 4,
 "nbformat_minor": 2
}
